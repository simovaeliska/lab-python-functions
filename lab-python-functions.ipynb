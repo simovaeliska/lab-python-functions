{
 "cells": [
  {
   "cell_type": "markdown",
   "id": "25d7736c-ba17-4aff-b6bb-66eba20fbf4e",
   "metadata": {},
   "source": [
    "# Lab | Functions"
   ]
  },
  {
   "cell_type": "markdown",
   "id": "0c581062-8967-4d93-b06e-62833222f930",
   "metadata": {
    "tags": []
   },
   "source": [
    "## Exercise: Managing Customer Orders with Functions\n",
    "\n",
    "In the previous exercise, you improved the code for managing customer orders by using loops and flow control. Now, let's take it a step further and refactor the code by introducing functions.\n",
    "\n",
    "Follow the steps below to complete the exercise:\n",
    "\n",
    "1. Define a function named `initialize_inventory` that takes `products` as a parameter. Inside the function, implement the code for initializing the inventory dictionary using a loop and user input.\n",
    "\n",
    "2. Define a function named `get_customer_orders` that takes no parameters. Inside the function, implement the code for prompting the user to enter the product names using a loop. The function should return the `customer_orders` set.\n",
    "\n",
    "3. Define a function named `update_inventory` that takes `customer_orders` and `inventory` as parameters. Inside the function, implement the code for updating the inventory dictionary based on the customer orders.\n",
    "\n",
    "4. Define a function named `calculate_order_statistics` that takes `customer_orders` and `products` as parameters. Inside the function, implement the code for calculating the order statistics (total products ordered, and percentage of unique products ordered). The function should return these values.\n",
    "\n",
    "5. Define a function named `print_order_statistics` that takes `order_statistics` as a parameter. Inside the function, implement the code for printing the order statistics.\n",
    "\n",
    "6. Define a function named `print_updated_inventory` that takes `inventory` as a parameter. Inside the function, implement the code for printing the updated inventory.\n",
    "\n",
    "7. Call the functions in the appropriate sequence to execute the program and manage customer orders.\n",
    "\n",
    "Hints for functions:\n",
    "\n",
    "- Consider the input parameters required for each function and their return values.\n",
    "- Utilize function parameters and return values to transfer data between functions.\n",
    "- Test your functions individually to ensure they work correctly.\n",
    "\n",
    "\n"
   ]
  },
  {
   "cell_type": "code",
   "execution_count": 216,
   "id": "1ba127a9-d445-4159-b835-1405501069cb",
   "metadata": {},
   "outputs": [],
   "source": [
    "#1 initialize_inventory\n",
    "\n",
    "def initialize_inventory(product):\n",
    "    inventory = {}\n",
    "\n",
    "    while True:\n",
    "        product = input(\"Enter a name of the product you would like to add to inventory (or 'done' to finish) \").lower()\n",
    "        \n",
    "        if product == \"done\":\n",
    "            break\n",
    "            \n",
    "        quantity = int(input(f\"Enter the quantity of {product} you want to order:\"))\n",
    "        inventory[product] = int(quantity)\n",
    "    return inventory"
   ]
  },
  {
   "cell_type": "code",
   "execution_count": 270,
   "id": "bdb382a5-febb-46dc-a835-63a63e28dcee",
   "metadata": {},
   "outputs": [],
   "source": [
    "#2 Define a function named get_customer_orders that takes no parameters\n",
    "\n",
    "def get_customer_orders():\n",
    "    customer_orders = set()\n",
    "    while True:\n",
    "        product = input(\"Enter a name of the product you would like to order: \").lower()\n",
    "        customer_orders.add(product)\n",
    "        print(f\"{product} is added to the order.\")\n",
    "        if product not in inventory:\n",
    "            quantity = int(input(f\"{product} is a new product. Enter the quantity: \"))\n",
    "            inventory[product] = quantity\n",
    "\n",
    "        another_product = input(\"Do you want to add another product? (yes/no): \").lower()\n",
    "        if another_product == 'no':\n",
    "            print(\"Your order is done.\")\n",
    "            break\n",
    "        elif another_product != \"yes\" : \n",
    "            print(\"Please enter yes or no.\")\n",
    "    return customer_orders"
   ]
  },
  {
   "cell_type": "code",
   "execution_count": 240,
   "id": "f62ab8b4-8373-47b5-8080-428f5b083723",
   "metadata": {},
   "outputs": [],
   "source": [
    "#3 update inventory\n",
    "\n",
    "def update_inventory(customer_orders, inventory):\n",
    "    for product in customer_orders:\n",
    "        if product in inventory:\n",
    "            if inventory[product] > 0:\n",
    "                inventory[product] -= 1\n",
    "    return inventory"
   ]
  },
  {
   "cell_type": "code",
   "execution_count": 242,
   "id": "e40702d7-403e-4f05-8c90-51f3c46c4fdc",
   "metadata": {},
   "outputs": [],
   "source": [
    "#4 calculate_order_statistics\n",
    "\n",
    "def calculate_order_statistics(customer_orders,products):\n",
    "    total_products_ordered = len(customer_orders)\n",
    "    available_products = len(products)\n",
    "    \n",
    "    unique_products = set([product for product in customer_orders if product in products])\n",
    "    percentage_of_unique_products_ordered = (len(unique_products) / available_products ) * 100\n",
    "    return total_products_ordered, percentage_of_unique_products_ordered"
   ]
  },
  {
   "cell_type": "code",
   "execution_count": 244,
   "id": "1748b003-5d24-46de-8906-b187bbe8f9e2",
   "metadata": {},
   "outputs": [],
   "source": [
    "#5 Define a function named print_order_statistics\n",
    "\n",
    "def print_order_statistics(order_statistics):\n",
    "    print(\"Order Statistics:\")\n",
    "    print(\"Total products ordered:\", order_statistics[0])\n",
    "    print(\"Percentage of unique products ordered:\", order_statistics[1], \"%\")"
   ]
  },
  {
   "cell_type": "code",
   "execution_count": 246,
   "id": "ce2d81f1-9e6b-4cdc-87fe-05cd080fea5d",
   "metadata": {},
   "outputs": [],
   "source": [
    "#6 Define a function named print_updated_inventory\n",
    "\n",
    "def print_updated_inventory(inventory):\n",
    "    print(\"Updated Inventory:\", inventory)"
   ]
  },
  {
   "cell_type": "code",
   "execution_count": 272,
   "id": "0ebea317-f4eb-4c4b-a6e6-0aa83f31708d",
   "metadata": {},
   "outputs": [
    {
     "name": "stdin",
     "output_type": "stream",
     "text": [
      "Enter a name of the product you would like to add to inventory (or 'done' to finish)  mug\n",
      "Enter the quantity of mug you want to order: 120\n",
      "Enter a name of the product you would like to add to inventory (or 'done' to finish)  book\n",
      "Enter the quantity of book you want to order: 2\n",
      "Enter a name of the product you would like to add to inventory (or 'done' to finish)  hat\n",
      "Enter the quantity of hat you want to order: 12\n",
      "Enter a name of the product you would like to add to inventory (or 'done' to finish)  keychain\n",
      "Enter the quantity of keychain you want to order: 8\n",
      "Enter a name of the product you would like to add to inventory (or 'done' to finish)  done\n"
     ]
    }
   ],
   "source": [
    "#7 Call the functions in the appropriate sequence to execute the program and manage customer orders\n",
    "\n",
    "products = [\"t-shirt\", \"mug\", \"hat\", \"book\", \"keychain\"]\n",
    "inventory = initialize_inventory(product)"
   ]
  },
  {
   "cell_type": "code",
   "execution_count": 276,
   "id": "4581adc3-c064-436b-aa2c-1ae18a2b84a2",
   "metadata": {},
   "outputs": [
    {
     "name": "stdin",
     "output_type": "stream",
     "text": [
      "Enter a name of the product you would like to order:  hat\n"
     ]
    },
    {
     "name": "stdout",
     "output_type": "stream",
     "text": [
      "hat is added to the order.\n"
     ]
    },
    {
     "name": "stdin",
     "output_type": "stream",
     "text": [
      "Do you want to add another product? (yes/no):  yes\n",
      "Enter a name of the product you would like to order:  skirt\n"
     ]
    },
    {
     "name": "stdout",
     "output_type": "stream",
     "text": [
      "skirt is added to the order.\n"
     ]
    },
    {
     "name": "stdin",
     "output_type": "stream",
     "text": [
      "skirt is a new product. Enter the quantity:  12\n",
      "Do you want to add another product? (yes/no):  yes\n",
      "Enter a name of the product you would like to order:  hoodie\n"
     ]
    },
    {
     "name": "stdout",
     "output_type": "stream",
     "text": [
      "hoodie is added to the order.\n"
     ]
    },
    {
     "name": "stdin",
     "output_type": "stream",
     "text": [
      "hoodie is a new product. Enter the quantity:  2\n",
      "Do you want to add another product? (yes/no):  no\n"
     ]
    },
    {
     "name": "stdout",
     "output_type": "stream",
     "text": [
      "Your order is done.\n"
     ]
    },
    {
     "data": {
      "text/plain": [
       "{'hat', 'hoodie', 'skirt'}"
      ]
     },
     "execution_count": 276,
     "metadata": {},
     "output_type": "execute_result"
    }
   ],
   "source": [
    "get_customer_orders()"
   ]
  },
  {
   "cell_type": "code",
   "execution_count": 278,
   "id": "8883d4a4-f66b-401a-b82f-ef1f1c5949a8",
   "metadata": {},
   "outputs": [
    {
     "data": {
      "text/plain": [
       "{'mug': 119, 'book': 2, 'hat': 12, 'keychain': 8, 'skirt': 11, 'hoodie': 2}"
      ]
     },
     "execution_count": 278,
     "metadata": {},
     "output_type": "execute_result"
    }
   ],
   "source": [
    "update_inventory(customer_orders, inventory)"
   ]
  },
  {
   "cell_type": "code",
   "execution_count": 284,
   "id": "2b7d4098-640b-4a04-82d3-0637152c9b04",
   "metadata": {},
   "outputs": [
    {
     "data": {
      "text/plain": [
       "(2, 20.0)"
      ]
     },
     "execution_count": 284,
     "metadata": {},
     "output_type": "execute_result"
    }
   ],
   "source": [
    "calculate_order_statistics(customer_orders,products)"
   ]
  },
  {
   "cell_type": "code",
   "execution_count": 288,
   "id": "20446865-967a-4996-8467-2e3455d756d8",
   "metadata": {},
   "outputs": [
    {
     "name": "stdout",
     "output_type": "stream",
     "text": [
      "Order Statistics:\n",
      "Total products ordered: 2\n",
      "Percentage of unique products ordered: 20.0 %\n"
     ]
    }
   ],
   "source": [
    "order_statistics = calculate_order_statistics(customer_orders,products)\n",
    "print_order_statistics(order_statistics)"
   ]
  },
  {
   "cell_type": "code",
   "execution_count": 290,
   "id": "1a84cfe3-8a2f-4dbb-8c98-1880968f7710",
   "metadata": {},
   "outputs": [
    {
     "name": "stdout",
     "output_type": "stream",
     "text": [
      "Updated Inventory: {'mug': 119, 'book': 2, 'hat': 12, 'keychain': 8, 'skirt': 11, 'hoodie': 2}\n"
     ]
    }
   ],
   "source": [
    "print_updated_inventory(inventory)"
   ]
  },
  {
   "cell_type": "code",
   "execution_count": null,
   "id": "20316ae2-aa93-4c70-b026-1b10dfc9528e",
   "metadata": {},
   "outputs": [],
   "source": []
  }
 ],
 "metadata": {
  "kernelspec": {
   "display_name": "Python 3 (ipykernel)",
   "language": "python",
   "name": "python3"
  },
  "language_info": {
   "codemirror_mode": {
    "name": "ipython",
    "version": 3
   },
   "file_extension": ".py",
   "mimetype": "text/x-python",
   "name": "python",
   "nbconvert_exporter": "python",
   "pygments_lexer": "ipython3",
   "version": "3.12.4"
  }
 },
 "nbformat": 4,
 "nbformat_minor": 5
}
