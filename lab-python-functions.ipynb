{
 "cells": [
  {
   "cell_type": "markdown",
   "id": "25d7736c-ba17-4aff-b6bb-66eba20fbf4e",
   "metadata": {},
   "source": [
    "# Lab | Functions"
   ]
  },
  {
   "cell_type": "markdown",
   "id": "0c581062-8967-4d93-b06e-62833222f930",
   "metadata": {
    "tags": []
   },
   "source": [
    "## Exercise: Managing Customer Orders with Functions\n",
    "\n",
    "In the previous exercise, you improved the code for managing customer orders by using loops and flow control. Now, let's take it a step further and refactor the code by introducing functions.\n",
    "\n",
    "Follow the steps below to complete the exercise:\n",
    "\n",
    "1. Define a function named `initialize_inventory` that takes `products` as a parameter. Inside the function, implement the code for initializing the inventory dictionary using a loop and user input.\n",
    "\n",
    "2. Define a function named `get_customer_orders` that takes no parameters. Inside the function, implement the code for prompting the user to enter the product names using a loop. The function should return the `customer_orders` set.\n",
    "\n",
    "3. Define a function named `update_inventory` that takes `customer_orders` and `inventory` as parameters. Inside the function, implement the code for updating the inventory dictionary based on the customer orders.\n",
    "\n",
    "4. Define a function named `calculate_order_statistics` that takes `customer_orders` and `products` as parameters. Inside the function, implement the code for calculating the order statistics (total products ordered, and percentage of unique products ordered). The function should return these values.\n",
    "\n",
    "5. Define a function named `print_order_statistics` that takes `order_statistics` as a parameter. Inside the function, implement the code for printing the order statistics.\n",
    "\n",
    "6. Define a function named `print_updated_inventory` that takes `inventory` as a parameter. Inside the function, implement the code for printing the updated inventory.\n",
    "\n",
    "7. Call the functions in the appropriate sequence to execute the program and manage customer orders.\n",
    "\n",
    "Hints for functions:\n",
    "\n",
    "- Consider the input parameters required for each function and their return values.\n",
    "- Utilize function parameters and return values to transfer data between functions.\n",
    "- Test your functions individually to ensure they work correctly.\n",
    "\n",
    "\n"
   ]
  },
  {
   "cell_type": "code",
   "execution_count": 147,
   "id": "1ba127a9-d445-4159-b835-1405501069cb",
   "metadata": {},
   "outputs": [
    {
     "name": "stdin",
     "output_type": "stream",
     "text": [
      "Enter a name of the product you would like to add to inventory (or 'done' to finish)  book\n",
      "Enter the quantity of book you want to order: 100\n",
      "Enter a name of the product you would like to add to inventory (or 'done' to finish)  hat\n",
      "Enter the quantity of hat you want to order: 20\n",
      "Enter a name of the product you would like to add to inventory (or 'done' to finish)  skirt\n",
      "Enter the quantity of skirt you want to order: 40\n",
      "Enter a name of the product you would like to add to inventory (or 'done' to finish)  hoodie\n",
      "Enter the quantity of hoodie you want to order: 40\n",
      "Enter a name of the product you would like to add to inventory (or 'done' to finish)  done\n"
     ]
    },
    {
     "data": {
      "text/plain": [
       "{'book': 100, 'hat': 20, 'skirt': 40, 'hoodie': 40}"
      ]
     },
     "execution_count": 147,
     "metadata": {},
     "output_type": "execute_result"
    }
   ],
   "source": [
    "#1 initialize_inventory\n",
    "\n",
    "products = [\"t-shirt\", \"mug\", \"hat\", \"book\", \"keychain\"]\n",
    "\n",
    "def initialize_inventory(product):\n",
    "    inventory = {}\n",
    "\n",
    "    while True:\n",
    "        product = input(\"Enter a name of the product you would like to add to inventory (or 'done' to finish) \").lower()\n",
    "        \n",
    "        if product == \"done\":\n",
    "            break\n",
    "            \n",
    "        quantity = int(input(f\"Enter the quantity of {product} you want to order:\"))\n",
    "        inventory[product] = int(quantity)\n",
    "    return inventory\n",
    "    \n",
    "initialize_inventory(product)"
   ]
  },
  {
   "cell_type": "code",
   "execution_count": 149,
   "id": "bdb382a5-febb-46dc-a835-63a63e28dcee",
   "metadata": {},
   "outputs": [],
   "source": [
    "#2 Define a function named get_customer_orders that takes no parameters\n",
    "\n",
    "def get_customer_orders():\n",
    "    while True:\n",
    "        customer_orders = set()\n",
    "        product = input(\"Enter a name of the product you would like to order: \").lower()\n",
    "        customer_orders.add(product)\n",
    "        print(f\"{product} is added to the order.\")\n",
    "        \n",
    "        if product not in inventory:\n",
    "            quantity = int(input(f\"{product} is a new product. Enter the quantity: \"))\n",
    "            inventory[product] = quantity\n",
    "\n",
    "\n",
    "        another_product = input(\"Do you want to add another product? (yes/no): \").lower()\n",
    "        if another_product == 'no':\n",
    "            print(\"Your order is done.\")\n",
    "            break\n",
    "        elif another_product != \"yes\" : \n",
    "            print(\"Please enter yes or no.\")\n",
    "    return customer_orders"
   ]
  },
  {
   "cell_type": "code",
   "execution_count": 151,
   "id": "f62ab8b4-8373-47b5-8080-428f5b083723",
   "metadata": {},
   "outputs": [],
   "source": [
    "#3 update inventory\n",
    "\n",
    "def update_inventory(customer_orders, inventory):\n",
    "    for product in customer_orders:\n",
    "        if product in inventory:\n",
    "            if inventory[product] > 0:\n",
    "                inventory[product] -= 1\n",
    "    print(\"Updated Inventory:\", inventory)"
   ]
  },
  {
   "cell_type": "code",
   "execution_count": 163,
   "id": "e40702d7-403e-4f05-8c90-51f3c46c4fdc",
   "metadata": {},
   "outputs": [],
   "source": [
    "#4 calculate_order_statistics\n",
    "\n",
    "def calculate_order_statistics(customer_orders,products):\n",
    "\n",
    "    for product in customer_orders:\n",
    "        total_products_ordered = len(customer_orders)\n",
    "        available_products = len(products)\n",
    "     percentage of unique products ordered = (total_products_ordered / available_products ) * 100\n",
    "    order_status = (\"Total products ordered:\", total_products_ordered, \"Percentage of Products Ordered\", percentage_of_ordered_products)\n"
   ]
  },
  {
   "cell_type": "code",
   "execution_count": null,
   "id": "1748b003-5d24-46de-8906-b187bbe8f9e2",
   "metadata": {},
   "outputs": [],
   "source": []
  }
 ],
 "metadata": {
  "kernelspec": {
   "display_name": "Python 3 (ipykernel)",
   "language": "python",
   "name": "python3"
  },
  "language_info": {
   "codemirror_mode": {
    "name": "ipython",
    "version": 3
   },
   "file_extension": ".py",
   "mimetype": "text/x-python",
   "name": "python",
   "nbconvert_exporter": "python",
   "pygments_lexer": "ipython3",
   "version": "3.12.4"
  }
 },
 "nbformat": 4,
 "nbformat_minor": 5
}
